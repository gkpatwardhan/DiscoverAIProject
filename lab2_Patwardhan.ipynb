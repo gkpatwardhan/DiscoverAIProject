{
    "metadata": {
        "kernelspec": {
            "name": "python3",
            "display_name": "Python 3 (ipykernel)",
            "language": "python"
        }
    },
    "nbformat": 4,
    "nbformat_minor": 2,
    "cells": [
        {
            "attachments": {},
            "cell_type": "markdown",
            "metadata": {},
            "source": [
                "# **Drugs A, B, C, X, Y for Decision Trees**"
            ]
        },
        {
            "attachments": {},
            "cell_type": "markdown",
            "metadata": {},
            "source": [
                "The code below is taken from Pablo M Gomez's submission on [kaggle.com](https://www.kaggle.com/pablomgomez21/decision-trees-practice).\n",
                "\n",
                "You are encouraged to go to the link above and check the full code. In this lab, you will do the necessary steps to explore the data and prepare it for sklearn algorithms."
            ]
        },
        {
            "attachments": {},
            "cell_type": "markdown",
            "metadata": {},
            "source": [
                "**About the data set**"
            ]
        },
        {
            "attachments": {},
            "cell_type": "markdown",
            "metadata": {},
            "source": [
                "Imagine that you are a medical researcher compiling data for a study. You have collected data about a set of patients, all of whom suffered from the same illness. During their course of treatment, each patient responded to one of 5 medications, Drug A, Drug B, Drug c, Drug x and y.\n",
                "\n",
                "Part of your job is to build a model to find out which drug might be appropriate for a future patient with the same illness. The features of this dataset are Age, Sex, Blood Pressure, and the Cholesterol of the patients, and the target is the drug that each patient responded to.\n",
                "\n",
                "It is a sample of multiclass classifier, and you can use the training part of the dataset to build a decision tree, and then use it to predict the class of a unknown patient, or to prescribe a drug to a new patient."
            ]
        },
        {
            "attachments": {},
            "cell_type": "markdown",
            "metadata": {},
            "source": [
                "**Import libraries**"
            ]
        },
        {
            "cell_type": "code",
            "execution_count": 1,
            "metadata": {},
            "outputs": [],
            "source": [
                "import numpy as np # linear algebra\n",
                "import pandas as pd # data processing, CSV file I/O (e.g. pd.read_csv)\n",
                "\n",
                "# import required sklearn libraries for Decision Tree Classifier\n",
                "import sklearn\n",
                "from sklearn.tree import DecisionTreeClassifier\n",
                "from sklearn import preprocessing\n",
                "from sklearn.model_selection import train_test_split"
            ]
        },
        {
            "attachments": {},
            "cell_type": "markdown",
            "metadata": {},
            "source": [
                "# Acquire data"
            ]
        },
        {
            "cell_type": "code",
            "execution_count": 2,
            "metadata": {},
            "outputs": [
                {
                    "data": {
                        "text/html": "\u003cdiv\u003e\n\u003cstyle scoped\u003e\n    .dataframe tbody tr th:only-of-type {\n        vertical-align: middle;\n    }\n\n    .dataframe tbody tr th {\n        vertical-align: top;\n    }\n\n    .dataframe thead th {\n        text-align: right;\n    }\n\u003c/style\u003e\n\u003ctable border=\"1\" class=\"dataframe\"\u003e\n  \u003cthead\u003e\n    \u003ctr style=\"text-align: right;\"\u003e\n      \u003cth\u003e\u003c/th\u003e\n      \u003cth\u003eAge\u003c/th\u003e\n      \u003cth\u003eSex\u003c/th\u003e\n      \u003cth\u003eBP\u003c/th\u003e\n      \u003cth\u003eCholesterol\u003c/th\u003e\n      \u003cth\u003eNa_to_K\u003c/th\u003e\n      \u003cth\u003eDrug\u003c/th\u003e\n    \u003c/tr\u003e\n  \u003c/thead\u003e\n  \u003ctbody\u003e\n    \u003ctr\u003e\n      \u003cth\u003e0\u003c/th\u003e\n      \u003ctd\u003e23\u003c/td\u003e\n      \u003ctd\u003eF\u003c/td\u003e\n      \u003ctd\u003eHIGH\u003c/td\u003e\n      \u003ctd\u003eHIGH\u003c/td\u003e\n      \u003ctd\u003e25.355\u003c/td\u003e\n      \u003ctd\u003edrugY\u003c/td\u003e\n    \u003c/tr\u003e\n    \u003ctr\u003e\n      \u003cth\u003e1\u003c/th\u003e\n      \u003ctd\u003e47\u003c/td\u003e\n      \u003ctd\u003eM\u003c/td\u003e\n      \u003ctd\u003eLOW\u003c/td\u003e\n      \u003ctd\u003eHIGH\u003c/td\u003e\n      \u003ctd\u003e13.093\u003c/td\u003e\n      \u003ctd\u003edrugC\u003c/td\u003e\n    \u003c/tr\u003e\n    \u003ctr\u003e\n      \u003cth\u003e2\u003c/th\u003e\n      \u003ctd\u003e47\u003c/td\u003e\n      \u003ctd\u003eM\u003c/td\u003e\n      \u003ctd\u003eLOW\u003c/td\u003e\n      \u003ctd\u003eHIGH\u003c/td\u003e\n      \u003ctd\u003e10.114\u003c/td\u003e\n      \u003ctd\u003edrugC\u003c/td\u003e\n    \u003c/tr\u003e\n    \u003ctr\u003e\n      \u003cth\u003e3\u003c/th\u003e\n      \u003ctd\u003e28\u003c/td\u003e\n      \u003ctd\u003eF\u003c/td\u003e\n      \u003ctd\u003eNORMAL\u003c/td\u003e\n      \u003ctd\u003eHIGH\u003c/td\u003e\n      \u003ctd\u003e7.798\u003c/td\u003e\n      \u003ctd\u003edrugX\u003c/td\u003e\n    \u003c/tr\u003e\n    \u003ctr\u003e\n      \u003cth\u003e4\u003c/th\u003e\n      \u003ctd\u003e61\u003c/td\u003e\n      \u003ctd\u003eF\u003c/td\u003e\n      \u003ctd\u003eLOW\u003c/td\u003e\n      \u003ctd\u003eHIGH\u003c/td\u003e\n      \u003ctd\u003e18.043\u003c/td\u003e\n      \u003ctd\u003edrugY\u003c/td\u003e\n    \u003c/tr\u003e\n  \u003c/tbody\u003e\n\u003c/table\u003e\n\u003c/div\u003e",
                        "text/plain": "   Age Sex      BP Cholesterol  Na_to_K   Drug\n0   23   F    HIGH        HIGH   25.355  drugY\n1   47   M     LOW        HIGH   13.093  drugC\n2   47   M     LOW        HIGH   10.114  drugC\n3   28   F  NORMAL        HIGH    7.798  drugX\n4   61   F     LOW        HIGH   18.043  drugY"
                    },
                    "execution_count": 2,
                    "metadata": {},
                    "output_type": "execute_result"
                }
            ],
            "source": [
                "# Read in the data using panda's read_csv method\n",
                "my_data = pd.read_csv(\"SupervisedLearning/DrugSelection/drug200.csv\")\n",
                "\n",
                "#TODO: Write code to inspect the first five rows of the dataframe\n",
                "my_data.head()"
            ]
        },
        {
            "cell_type": "code",
            "execution_count": 10,
            "metadata": {},
            "outputs": [
                {
                    "name": "stdout",
                    "output_type": "stream",
                    "text": "     Age Sex      BP Cholesterol  Na_to_K   Drug\n0     23   F    HIGH        HIGH   25.355  drugY\n1     47   M     LOW        HIGH   13.093  drugC\n2     47   M     LOW        HIGH   10.114  drugC\n3     28   F  NORMAL        HIGH    7.798  drugX\n4     61   F     LOW        HIGH   18.043  drugY\n5     22   F  NORMAL        HIGH    8.607  drugX\n6     49   F  NORMAL        HIGH   16.275  drugY\n7     41   M     LOW        HIGH   11.037  drugC\n8     60   M  NORMAL        HIGH   15.171  drugY\n9     43   M     LOW      NORMAL   19.368  drugY\n10    47   F     LOW        HIGH   11.767  drugC\n11    34   F    HIGH      NORMAL   19.199  drugY\n12    43   M     LOW        HIGH   15.376  drugY\n13    74   F     LOW        HIGH   20.942  drugY\n14    50   F  NORMAL        HIGH   12.703  drugX\n15    16   F    HIGH      NORMAL   15.516  drugY\n16    69   M     LOW      NORMAL   11.455  drugX\n17    43   M    HIGH        HIGH   13.972  drugA\n18    23   M     LOW        HIGH    7.298  drugC\n19    32   F    HIGH      NORMAL   25.974  drugY\n20    57   M     LOW      NORMAL   19.128  drugY\n21    63   M  NORMAL        HIGH   25.917  drugY\n22    47   M     LOW      NORMAL   30.568  drugY\n23    48   F     LOW        HIGH   15.036  drugY\n24    33   F     LOW        HIGH   33.486  drugY\n25    28   F    HIGH      NORMAL   18.809  drugY\n26    31   M    HIGH        HIGH   30.366  drugY\n27    49   F  NORMAL      NORMAL    9.381  drugX\n28    39   F     LOW      NORMAL   22.697  drugY\n29    45   M     LOW        HIGH   17.951  drugY\n30    18   F  NORMAL      NORMAL    8.750  drugX\n31    74   M    HIGH        HIGH    9.567  drugB\n32    49   M     LOW      NORMAL   11.014  drugX\n33    65   F    HIGH      NORMAL   31.876  drugY\n34    53   M  NORMAL        HIGH   14.133  drugX\n35    46   M  NORMAL      NORMAL    7.285  drugX\n36    32   M    HIGH      NORMAL    9.445  drugA\n37    39   M     LOW      NORMAL   13.938  drugX\n38    39   F  NORMAL      NORMAL    9.709  drugX\n39    15   M  NORMAL        HIGH    9.084  drugX\n40    73   F  NORMAL        HIGH   19.221  drugY\n41    58   F    HIGH      NORMAL   14.239  drugB\n42    50   M  NORMAL      NORMAL   15.790  drugY\n43    23   M  NORMAL        HIGH   12.260  drugX\n44    50   F  NORMAL      NORMAL   12.295  drugX\n45    66   F  NORMAL      NORMAL    8.107  drugX\n46    37   F    HIGH        HIGH   13.091  drugA\n47    68   M     LOW        HIGH   10.291  drugC\n48    23   M  NORMAL        HIGH   31.686  drugY\n49    28   F     LOW        HIGH   19.796  drugY\n50    58   F    HIGH        HIGH   19.416  drugY\n51    67   M  NORMAL      NORMAL   10.898  drugX\n52    62   M     LOW      NORMAL   27.183  drugY\n53    24   F    HIGH      NORMAL   18.457  drugY\n54    68   F    HIGH      NORMAL   10.189  drugB\n55    26   F     LOW        HIGH   14.160  drugC\n56    65   M    HIGH      NORMAL   11.340  drugB\n57    40   M    HIGH        HIGH   27.826  drugY\n58    60   M  NORMAL      NORMAL   10.091  drugX\n59    34   M    HIGH        HIGH   18.703  drugY\n60    38   F     LOW      NORMAL   29.875  drugY\n61    24   M    HIGH      NORMAL    9.475  drugA\n62    67   M     LOW      NORMAL   20.693  drugY\n63    45   M     LOW      NORMAL    8.370  drugX\n64    60   F    HIGH        HIGH   13.303  drugB\n65    68   F  NORMAL      NORMAL   27.050  drugY\n66    29   M    HIGH        HIGH   12.856  drugA\n67    17   M  NORMAL      NORMAL   10.832  drugX\n68    54   M  NORMAL        HIGH   24.658  drugY\n69    18   F    HIGH      NORMAL   24.276  drugY\n70    70   M    HIGH        HIGH   13.967  drugB\n71    28   F  NORMAL        HIGH   19.675  drugY\n72    24   F  NORMAL        HIGH   10.605  drugX\n73    41   F  NORMAL      NORMAL   22.905  drugY\n74    31   M    HIGH      NORMAL   17.069  drugY\n75    26   M     LOW      NORMAL   20.909  drugY\n76    36   F    HIGH        HIGH   11.198  drugA\n77    26   F    HIGH      NORMAL   19.161  drugY\n78    19   F    HIGH        HIGH   13.313  drugA\n79    32   F     LOW      NORMAL   10.840  drugX\n80    60   M    HIGH        HIGH   13.934  drugB\n81    64   M  NORMAL        HIGH    7.761  drugX\n82    32   F     LOW        HIGH    9.712  drugC\n83    38   F    HIGH      NORMAL   11.326  drugA\n84    47   F     LOW        HIGH   10.067  drugC\n85    59   M    HIGH        HIGH   13.935  drugB\n86    51   F  NORMAL        HIGH   13.597  drugX\n87    69   M     LOW        HIGH   15.478  drugY\n88    37   F    HIGH      NORMAL   23.091  drugY\n89    50   F  NORMAL      NORMAL   17.211  drugY\n90    62   M  NORMAL        HIGH   16.594  drugY\n91    41   M    HIGH      NORMAL   15.156  drugY\n92    29   F    HIGH        HIGH   29.450  drugY\n93    42   F     LOW      NORMAL   29.271  drugY\n94    56   M     LOW        HIGH   15.015  drugY\n95    36   M     LOW      NORMAL   11.424  drugX\n96    58   F     LOW        HIGH   38.247  drugY\n97    56   F    HIGH        HIGH   25.395  drugY\n98    20   M    HIGH      NORMAL   35.639  drugY\n99    15   F    HIGH      NORMAL   16.725  drugY\n100   31   M    HIGH      NORMAL   11.871  drugA\n101   45   F    HIGH        HIGH   12.854  drugA\n102   28   F     LOW        HIGH   13.127  drugC\n103   56   M  NORMAL        HIGH    8.966  drugX\n104   22   M    HIGH      NORMAL   28.294  drugY\n105   37   M     LOW      NORMAL    8.968  drugX\n106   22   M  NORMAL        HIGH   11.953  drugX\n107   42   M     LOW        HIGH   20.013  drugY\n108   72   M    HIGH      NORMAL    9.677  drugB\n109   23   M  NORMAL        HIGH   16.850  drugY\n110   50   M    HIGH        HIGH    7.490  drugA\n111   47   F  NORMAL      NORMAL    6.683  drugX\n112   35   M     LOW      NORMAL    9.170  drugX\n113   65   F     LOW      NORMAL   13.769  drugX\n114   20   F  NORMAL      NORMAL    9.281  drugX\n115   51   M    HIGH        HIGH   18.295  drugY\n116   67   M  NORMAL      NORMAL    9.514  drugX\n117   40   F  NORMAL        HIGH   10.103  drugX\n118   32   F    HIGH      NORMAL   10.292  drugA\n119   61   F    HIGH        HIGH   25.475  drugY\n120   28   M  NORMAL        HIGH   27.064  drugY\n121   15   M    HIGH      NORMAL   17.206  drugY\n122   34   M  NORMAL        HIGH   22.456  drugY\n123   36   F  NORMAL        HIGH   16.753  drugY\n124   53   F    HIGH      NORMAL   12.495  drugB\n125   19   F    HIGH      NORMAL   25.969  drugY\n126   66   M    HIGH        HIGH   16.347  drugY\n127   35   M  NORMAL      NORMAL    7.845  drugX\n128   47   M     LOW      NORMAL   33.542  drugY\n129   32   F  NORMAL        HIGH    7.477  drugX\n130   70   F  NORMAL        HIGH   20.489  drugY\n131   52   M     LOW      NORMAL   32.922  drugY\n132   49   M     LOW      NORMAL   13.598  drugX\n133   24   M  NORMAL        HIGH   25.786  drugY\n134   42   F    HIGH        HIGH   21.036  drugY\n135   74   M     LOW      NORMAL   11.939  drugX\n136   55   F    HIGH        HIGH   10.977  drugB\n137   35   F    HIGH        HIGH   12.894  drugA\n138   51   M    HIGH      NORMAL   11.343  drugB\n139   69   F  NORMAL        HIGH   10.065  drugX\n140   49   M    HIGH      NORMAL    6.269  drugA\n141   64   F     LOW      NORMAL   25.741  drugY\n142   60   M    HIGH      NORMAL    8.621  drugB\n143   74   M    HIGH      NORMAL   15.436  drugY\n144   39   M    HIGH        HIGH    9.664  drugA\n145   61   M  NORMAL        HIGH    9.443  drugX\n146   37   F     LOW      NORMAL   12.006  drugX\n147   26   F    HIGH      NORMAL   12.307  drugA\n148   61   F     LOW      NORMAL    7.340  drugX\n149   22   M     LOW        HIGH    8.151  drugC\n150   49   M    HIGH      NORMAL    8.700  drugA\n151   68   M    HIGH        HIGH   11.009  drugB\n152   55   M  NORMAL      NORMAL    7.261  drugX\n153   72   F     LOW      NORMAL   14.642  drugX\n154   37   M     LOW      NORMAL   16.724  drugY\n155   49   M     LOW        HIGH   10.537  drugC\n156   31   M    HIGH      NORMAL   11.227  drugA\n157   53   M     LOW        HIGH   22.963  drugY\n158   59   F     LOW        HIGH   10.444  drugC\n159   34   F     LOW      NORMAL   12.923  drugX\n160   30   F  NORMAL        HIGH   10.443  drugX\n161   57   F    HIGH      NORMAL    9.945  drugB\n162   43   M  NORMAL      NORMAL   12.859  drugX\n163   21   F    HIGH      NORMAL   28.632  drugY\n164   16   M    HIGH      NORMAL   19.007  drugY\n165   38   M     LOW        HIGH   18.295  drugY\n166   58   F     LOW        HIGH   26.645  drugY\n167   57   F  NORMAL        HIGH   14.216  drugX\n168   51   F     LOW      NORMAL   23.003  drugY\n169   20   F    HIGH        HIGH   11.262  drugA\n170   28   F  NORMAL        HIGH   12.879  drugX\n171   45   M     LOW      NORMAL   10.017  drugX\n172   39   F  NORMAL      NORMAL   17.225  drugY\n173   41   F     LOW      NORMAL   18.739  drugY\n174   42   M    HIGH      NORMAL   12.766  drugA\n175   73   F    HIGH        HIGH   18.348  drugY\n176   48   M    HIGH      NORMAL   10.446  drugA\n177   25   M  NORMAL        HIGH   19.011  drugY\n178   39   M  NORMAL        HIGH   15.969  drugY\n179   67   F  NORMAL        HIGH   15.891  drugY\n180   22   F    HIGH      NORMAL   22.818  drugY\n181   59   F  NORMAL        HIGH   13.884  drugX\n182   20   F     LOW      NORMAL   11.686  drugX\n183   36   F    HIGH      NORMAL   15.490  drugY\n184   18   F    HIGH        HIGH   37.188  drugY\n185   57   F  NORMAL      NORMAL   25.893  drugY\n186   70   M    HIGH        HIGH    9.849  drugB\n187   47   M    HIGH        HIGH   10.403  drugA\n188   65   M    HIGH      NORMAL   34.997  drugY\n189   64   M    HIGH      NORMAL   20.932  drugY\n190   58   M    HIGH        HIGH   18.991  drugY\n191   23   M    HIGH        HIGH    8.011  drugA\n192   72   M     LOW        HIGH   16.310  drugY\n193   72   M     LOW        HIGH    6.769  drugC\n194   46   F    HIGH        HIGH   34.686  drugY\n195   56   F     LOW        HIGH   11.567  drugC\n196   16   M     LOW        HIGH   12.006  drugC\n197   52   M  NORMAL        HIGH    9.894  drugX\n198   23   M  NORMAL      NORMAL   14.020  drugX\n199   40   F     LOW      NORMAL   11.349  drugX\n"
                }
            ],
            "source": [
                "print(my_data.to_string())"
            ]
        },
        {
            "attachments": {},
            "cell_type": "markdown",
            "metadata": {},
            "source": [
                "# Inspect data"
            ]
        },
        {
            "cell_type": "code",
            "execution_count": 3,
            "metadata": {},
            "outputs": [
                {
                    "data": {
                        "text/plain": "(200, 6)"
                    },
                    "execution_count": 3,
                    "metadata": {},
                    "output_type": "execute_result"
                }
            ],
            "source": [
                "#TODO: Write code to inspect the shape of the data frame\n",
                "my_data.shape"
            ]
        },
        {
            "cell_type": "code",
            "execution_count": 4,
            "metadata": {},
            "outputs": [
                {
                    "name": "stdout",
                    "output_type": "stream",
                    "text": "\u003cclass 'pandas.core.frame.DataFrame'\u003e\nRangeIndex: 200 entries, 0 to 199\nData columns (total 6 columns):\n #   Column       Non-Null Count  Dtype  \n---  ------       --------------  -----  \n 0   Age          200 non-null    int64  \n 1   Sex          200 non-null    object \n 2   BP           200 non-null    object \n 3   Cholesterol  200 non-null    object \n 4   Na_to_K      200 non-null    float64\n 5   Drug         200 non-null    object \ndtypes: float64(1), int64(1), object(4)\nmemory usage: 9.5+ KB\n"
                }
            ],
            "source": [
                "#TODO: Write code to display information about the data frame\n",
                "my_data.info()"
            ]
        },
        {
            "cell_type": "code",
            "execution_count": 6,
            "metadata": {},
            "outputs": [
                {
                    "data": {
                        "text/html": "\u003cdiv\u003e\n\u003cstyle scoped\u003e\n    .dataframe tbody tr th:only-of-type {\n        vertical-align: middle;\n    }\n\n    .dataframe tbody tr th {\n        vertical-align: top;\n    }\n\n    .dataframe thead th {\n        text-align: right;\n    }\n\u003c/style\u003e\n\u003ctable border=\"1\" class=\"dataframe\"\u003e\n  \u003cthead\u003e\n    \u003ctr style=\"text-align: right;\"\u003e\n      \u003cth\u003e\u003c/th\u003e\n      \u003cth\u003eAge\u003c/th\u003e\n      \u003cth\u003eSex\u003c/th\u003e\n      \u003cth\u003eBP\u003c/th\u003e\n      \u003cth\u003eCholesterol\u003c/th\u003e\n      \u003cth\u003eNa_to_K\u003c/th\u003e\n      \u003cth\u003eDrug\u003c/th\u003e\n    \u003c/tr\u003e\n  \u003c/thead\u003e\n  \u003ctbody\u003e\n    \u003ctr\u003e\n      \u003cth\u003ecount\u003c/th\u003e\n      \u003ctd\u003e200.000000\u003c/td\u003e\n      \u003ctd\u003e200\u003c/td\u003e\n      \u003ctd\u003e200\u003c/td\u003e\n      \u003ctd\u003e200\u003c/td\u003e\n      \u003ctd\u003e200.000000\u003c/td\u003e\n      \u003ctd\u003e200\u003c/td\u003e\n    \u003c/tr\u003e\n    \u003ctr\u003e\n      \u003cth\u003eunique\u003c/th\u003e\n      \u003ctd\u003eNaN\u003c/td\u003e\n      \u003ctd\u003e2\u003c/td\u003e\n      \u003ctd\u003e3\u003c/td\u003e\n      \u003ctd\u003e2\u003c/td\u003e\n      \u003ctd\u003eNaN\u003c/td\u003e\n      \u003ctd\u003e5\u003c/td\u003e\n    \u003c/tr\u003e\n    \u003ctr\u003e\n      \u003cth\u003etop\u003c/th\u003e\n      \u003ctd\u003eNaN\u003c/td\u003e\n      \u003ctd\u003eM\u003c/td\u003e\n      \u003ctd\u003eHIGH\u003c/td\u003e\n      \u003ctd\u003eHIGH\u003c/td\u003e\n      \u003ctd\u003eNaN\u003c/td\u003e\n      \u003ctd\u003edrugY\u003c/td\u003e\n    \u003c/tr\u003e\n    \u003ctr\u003e\n      \u003cth\u003efreq\u003c/th\u003e\n      \u003ctd\u003eNaN\u003c/td\u003e\n      \u003ctd\u003e104\u003c/td\u003e\n      \u003ctd\u003e77\u003c/td\u003e\n      \u003ctd\u003e103\u003c/td\u003e\n      \u003ctd\u003eNaN\u003c/td\u003e\n      \u003ctd\u003e91\u003c/td\u003e\n    \u003c/tr\u003e\n    \u003ctr\u003e\n      \u003cth\u003emean\u003c/th\u003e\n      \u003ctd\u003e44.315000\u003c/td\u003e\n      \u003ctd\u003eNaN\u003c/td\u003e\n      \u003ctd\u003eNaN\u003c/td\u003e\n      \u003ctd\u003eNaN\u003c/td\u003e\n      \u003ctd\u003e16.084485\u003c/td\u003e\n      \u003ctd\u003eNaN\u003c/td\u003e\n    \u003c/tr\u003e\n    \u003ctr\u003e\n      \u003cth\u003estd\u003c/th\u003e\n      \u003ctd\u003e16.544315\u003c/td\u003e\n      \u003ctd\u003eNaN\u003c/td\u003e\n      \u003ctd\u003eNaN\u003c/td\u003e\n      \u003ctd\u003eNaN\u003c/td\u003e\n      \u003ctd\u003e7.223956\u003c/td\u003e\n      \u003ctd\u003eNaN\u003c/td\u003e\n    \u003c/tr\u003e\n    \u003ctr\u003e\n      \u003cth\u003emin\u003c/th\u003e\n      \u003ctd\u003e15.000000\u003c/td\u003e\n      \u003ctd\u003eNaN\u003c/td\u003e\n      \u003ctd\u003eNaN\u003c/td\u003e\n      \u003ctd\u003eNaN\u003c/td\u003e\n      \u003ctd\u003e6.269000\u003c/td\u003e\n      \u003ctd\u003eNaN\u003c/td\u003e\n    \u003c/tr\u003e\n    \u003ctr\u003e\n      \u003cth\u003e25%\u003c/th\u003e\n      \u003ctd\u003e31.000000\u003c/td\u003e\n      \u003ctd\u003eNaN\u003c/td\u003e\n      \u003ctd\u003eNaN\u003c/td\u003e\n      \u003ctd\u003eNaN\u003c/td\u003e\n      \u003ctd\u003e10.445500\u003c/td\u003e\n      \u003ctd\u003eNaN\u003c/td\u003e\n    \u003c/tr\u003e\n    \u003ctr\u003e\n      \u003cth\u003e50%\u003c/th\u003e\n      \u003ctd\u003e45.000000\u003c/td\u003e\n      \u003ctd\u003eNaN\u003c/td\u003e\n      \u003ctd\u003eNaN\u003c/td\u003e\n      \u003ctd\u003eNaN\u003c/td\u003e\n      \u003ctd\u003e13.936500\u003c/td\u003e\n      \u003ctd\u003eNaN\u003c/td\u003e\n    \u003c/tr\u003e\n    \u003ctr\u003e\n      \u003cth\u003e75%\u003c/th\u003e\n      \u003ctd\u003e58.000000\u003c/td\u003e\n      \u003ctd\u003eNaN\u003c/td\u003e\n      \u003ctd\u003eNaN\u003c/td\u003e\n      \u003ctd\u003eNaN\u003c/td\u003e\n      \u003ctd\u003e19.380000\u003c/td\u003e\n      \u003ctd\u003eNaN\u003c/td\u003e\n    \u003c/tr\u003e\n    \u003ctr\u003e\n      \u003cth\u003emax\u003c/th\u003e\n      \u003ctd\u003e74.000000\u003c/td\u003e\n      \u003ctd\u003eNaN\u003c/td\u003e\n      \u003ctd\u003eNaN\u003c/td\u003e\n      \u003ctd\u003eNaN\u003c/td\u003e\n      \u003ctd\u003e38.247000\u003c/td\u003e\n      \u003ctd\u003eNaN\u003c/td\u003e\n    \u003c/tr\u003e\n  \u003c/tbody\u003e\n\u003c/table\u003e\n\u003c/div\u003e",
                        "text/plain": "               Age  Sex    BP Cholesterol     Na_to_K   Drug\ncount   200.000000  200   200         200  200.000000    200\nunique         NaN    2     3           2         NaN      5\ntop            NaN    M  HIGH        HIGH         NaN  drugY\nfreq           NaN  104    77         103         NaN     91\nmean     44.315000  NaN   NaN         NaN   16.084485    NaN\nstd      16.544315  NaN   NaN         NaN    7.223956    NaN\nmin      15.000000  NaN   NaN         NaN    6.269000    NaN\n25%      31.000000  NaN   NaN         NaN   10.445500    NaN\n50%      45.000000  NaN   NaN         NaN   13.936500    NaN\n75%      58.000000  NaN   NaN         NaN   19.380000    NaN\nmax      74.000000  NaN   NaN         NaN   38.247000    NaN"
                    },
                    "execution_count": 6,
                    "metadata": {},
                    "output_type": "execute_result"
                }
            ],
            "source": [
                "#TODO: Write code to display statistics about the data frame\n",
                "my_data.describe(include='all')"
            ]
        },
        {
            "attachments": {},
            "cell_type": "markdown",
            "metadata": {},
            "source": [
                "# Clean data"
            ]
        },
        {
            "attachments": {},
            "cell_type": "markdown",
            "metadata": {},
            "source": [
                "**Correcting**"
            ]
        },
        {
            "cell_type": "code",
            "execution_count": 0,
            "metadata": {},
            "outputs": [],
            "source": [
                "#TODO: Write code to drop rows having missing values\n",
                "# I couldn't find any missing values. The docmentation doesn't mention how they have listed missing\n",
                "# values and neither does the kaggle.com submission. Thus, I am led to believe that there are no \n",
                "# mising values."
            ]
        },
        {
            "attachments": {},
            "cell_type": "markdown",
            "metadata": {},
            "source": [
                "**Converting**"
            ]
        },
        {
            "attachments": {},
            "cell_type": "markdown",
            "metadata": {},
            "source": [
                "Declare two variables:\n",
                "\n",
                "* X: feature matrix with the data \n",
                "* y: response vector with target information[link text](https://)\n",
                ""
            ]
        },
        {
            "cell_type": "code",
            "execution_count": 11,
            "metadata": {},
            "outputs": [
                {
                    "data": {
                        "text/plain": "array([[23, 'F', 'HIGH', 'HIGH', 25.355],\n       [47, 'M', 'LOW', 'HIGH', 13.093],\n       [47, 'M', 'LOW', 'HIGH', 10.114],\n       [28, 'F', 'NORMAL', 'HIGH', 7.798],\n       [61, 'F', 'LOW', 'HIGH', 18.043]], dtype=object)"
                    },
                    "execution_count": 11,
                    "metadata": {},
                    "output_type": "execute_result"
                }
            ],
            "source": [
                "#TODO: Write code to declare X\n",
                "# Hint: remove the column containing the target of this prediction problem\n",
                "# Note: To run the next section, X is expected to be an array. \n",
                "# You can get an array from a data frame with: X = X.values\n",
                "X = my_data[['Age', 'Sex', 'BP', 'Cholesterol', 'Na_to_K']].values\n",
                "\n",
                "#TODO: Write code to inspect the first five rows of X\n",
                "# Note: If X is an array, instead of using the head() function,\n",
                "# you will need to use array functionality to output the first five values.\n",
                "X[0:5] "
            ]
        },
        {
            "attachments": {},
            "cell_type": "markdown",
            "metadata": {},
            "source": [
                "As you may figure out, some features in this dataset are categorical, such as **Sex** or **BP**. Unfortunately, Sklearn Decision Trees does not handle categorical variables. We can still convert these features to numerical values using **pandas.get_dummies()** to convert the categorical variable into dummy/indicator variables.\n",
                "\n",
                "**Note:** If you run this block once, in order to run it again, you will need to redeclare X in the previous block or it will throw errors trying to convert data it has already converted."
            ]
        },
        {
            "cell_type": "code",
            "execution_count": 12,
            "metadata": {},
            "outputs": [
                {
                    "data": {
                        "text/plain": "array([[23, 0, 0, 0, 25.355],\n       [47, 1, 1, 0, 13.093],\n       [47, 1, 1, 0, 10.114],\n       [28, 0, 2, 0, 7.798],\n       [61, 0, 1, 0, 18.043]], dtype=object)"
                    },
                    "execution_count": 12,
                    "metadata": {},
                    "output_type": "execute_result"
                }
            ],
            "source": [
                "# Define a label encoder for the sex feature to be 0 or 1\n",
                "# X is expected to be an array here. If it's a dataframe, get the array version by running:\n",
                "# X = X.values\n",
                "\n",
                "le_sex = preprocessing.LabelEncoder()\n",
                "le_sex.fit(['F','M'])\n",
                "X[:,1] = le_sex.transform(X[:,1]) \n",
                "\n",
                "#TODO: Write code to encode the BP feature in X[:,2]\n",
                "# from 'Low', 'NORMAL', 'HIGH', to 0, 1, 2\n",
                "le_BP = preprocessing.LabelEncoder()\n",
                "le_BP.fit([ 'LOW', 'NORMAL', 'HIGH'])\n",
                "X[:,2] = le_BP.transform(X[:,2])\n",
                "\n",
                "# Define a label encoder for the Chol feature to be 0 or 1\n",
                "le_Chol = preprocessing.LabelEncoder()\n",
                "le_Chol.fit([ 'NORMAL', 'HIGH'])\n",
                "X[:,3] = le_Chol.transform(X[:,3]) \n",
                "\n",
                "X[0:5]"
            ]
        },
        {
            "cell_type": "code",
            "execution_count": 13,
            "metadata": {},
            "outputs": [
                {
                    "data": {
                        "text/plain": "0    drugY\n1    drugC\n2    drugC\n3    drugX\n4    drugY\nName: Drug, dtype: object"
                    },
                    "execution_count": 13,
                    "metadata": {},
                    "output_type": "execute_result"
                }
            ],
            "source": [
                "#TODO: Write code to declare y\n",
                "# Hint: this is the column containing the target of this prediction problem\n",
                "y = my_data[\"Drug\"]\n",
                "#TODO: Write code to inspect the first five rows of y\n",
                "y[0:5]"
            ]
        },
        {
            "attachments": {},
            "cell_type": "markdown",
            "metadata": {},
            "source": [
                "# Earn Your Wings"
            ]
        },
        {
            "attachments": {},
            "cell_type": "markdown",
            "metadata": {},
            "source": [
                "Use a decision tree classifier on the cleaned data set to predict y for the given data. Report the accuracy score. Add comments in your code to explain each step that you take in your implementation."
            ]
        },
        {
            "cell_type": "code",
            "execution_count": 19,
            "metadata": {},
            "outputs": [
                {
                    "name": "stdout",
                    "output_type": "stream",
                    "text": "X_trainsetX SHAPE: (140, 5)\ny_trainsetX SHAPE: (140,)\nX_testsetX SHAPE: (60, 5)\ny_testsetX SHAPE: (60,)\nDecisionTrees's Accuracy:  0.9833333333333333\n"
                }
            ],
            "source": [
                "from sklearn.model_selection import train_test_split\n",
                "from sklearn import metrics\n",
                "import matplotlib.pyplot as plt\n",
                "\n",
                "# Split data into training and validation datasets\n",
                "X_trainset, X_testset, y_trainset, y_testset = train_test_split(X, y, test_size=0.3, random_state=3)\n",
                "print(\"X_trainsetX SHAPE:\", str(X_trainset.shape))\n",
                "print(\"y_trainsetX SHAPE:\", str(y_trainset.shape))\n",
                "print(\"X_testsetX SHAPE:\", str(X_testset.shape))\n",
                "print(\"y_testsetX SHAPE:\", str(y_testset.shape))\n",
                "\n",
                "# Create an instance of the DecisionTreeClassifier\n",
                "drugTree = DecisionTreeClassifier(criterion=\"entropy\", max_depth = 4)\n",
                "drugTree # it shows the default parameters\n",
                "\n",
                "# Train the DecisionTreeClassifier\n",
                "drugTree.fit(X_trainset,y_trainset)\n",
                "\n",
                "# Test the DecisionTreeClassifier on our reserved validation set\n",
                "predTree = drugTree.predict(X_testset)\n",
                "print(\"DecisionTrees's Accuracy: \", metrics.accuracy_score(y_testset, predTree))"
            ]
        }
    ]
}
